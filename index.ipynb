{
 "cells": [
  {
   "cell_type": "code",
   "execution_count": null,
   "metadata": {},
   "outputs": [],
   "source": [
    "#hide\n",
    "from hager_py.hagerstrand import *\n"
   ]
  },
  {
   "cell_type": "markdown",
   "metadata": {},
   "source": [
    "![example workflow](https://github.com/CentroGeo/hager_py/actions/workflows/main.yml/badge.svg)"
   ]
  },
  {
   "cell_type": "markdown",
   "metadata": {},
   "source": [
    "# Hager python \n",
    "\n",
    "## Spatial Diffusion\n",
    "\n",
    "In this workshop we are going to work with a Python implementation of the [Torsten Hägerstrand](http://en.wikipedia.org/wiki/Torsten_H%C3%A4gerstrand) spatial diffusion model. This model is a [Monte Carlo](http://en.wikipedia.org/wiki/Monte_Carlo_method) simulation of the innovation diffusion process originally conceived by Hagerstrand in 1953. For this workshop we are going to work with the simplest version of the model, the basic assumptions are the following:\n",
    "\n",
    "1. Just one person has the message at the beginning\n",
    "2. Innovation is adopted as soon as it is contacted\n",
    "3. The message is only communicated in face-to-face meetings\n",
    "4. The message is transmitted in discrete intervals in which all the adopters transmit the message to another person.\n",
    "5. Space is homogeneous and isotropic\n",
    "\n",
    "In essence, what we do is consider geographic space as a grid in which each element has the same number of inhabitants. From here, the probability that an inhabitant of a grid contacts another inhabitant is a function of distance only.\n",
    "\n",
    "The Monte Carlo simulation occurs in two stages, for each carrier of the message:\n",
    "\n",
    "1. The cell which transmits the message is randomly selected (according to a probability function that decays with distance).\n",
    "2. Another number is selected randomly to choose the inhabitant of the cell that receives the message. If this inhabitant is also the bearer of innovation, it remains unaltered.\n",
    "\n",
    "We are now going to work a bit with the implementation of the Hagerstrand model that is in this same folder."
   ]
  },
  {
   "cell_type": "markdown",
   "metadata": {},
   "source": [
    "## Install"
   ]
  },
  {
   "cell_type": "markdown",
   "metadata": {},
   "source": [
    "`pip install your_project_name`"
   ]
  },
  {
   "cell_type": "markdown",
   "metadata": {},
   "source": [
    "## How to use"
   ]
  },
  {
   "cell_type": "markdown",
   "metadata": {},
   "source": [
    "Fill me in please! Don't forget code examples:"
   ]
  },
  {
   "cell_type": "code",
   "execution_count": null,
   "metadata": {},
   "outputs": [
    {
     "data": {
      "text/plain": [
       "2"
      ]
     },
     "execution_count": null,
     "metadata": {},
     "output_type": "execute_result"
    }
   ],
   "source": [
    "1+1"
   ]
  },
  {
   "cell_type": "code",
   "execution_count": null,
   "metadata": {},
   "outputs": [],
   "source": [
    "s= SimpleDiffusion(100,100,5,20,[(20,20)],0.2,20)"
   ]
  },
  {
   "cell_type": "code",
   "execution_count": null,
   "metadata": {},
   "outputs": [],
   "source": [
    "s.mixed_diffusion(0.7)"
   ]
  },
  {
   "cell_type": "code",
   "execution_count": null,
   "metadata": {},
   "outputs": [],
   "source": []
  }
 ],
 "metadata": {
  "kernelspec": {
   "display_name": "Python 3 (ipykernel)",
   "language": "python",
   "name": "python3"
  }
 },
 "nbformat": 4,
 "nbformat_minor": 4
}
